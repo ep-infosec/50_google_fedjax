{
  "cells": [
    {
      "cell_type": "markdown",
      "metadata": {
        "id": "dXAJBz_5kbJW"
      },
      "source": [
        "\n",
        "[Open In Colab](https://colab.research.google.com/github/google/fedjax/blob/main/experimental/notebooks/emnist_compression.ipynb)"
      ]
    },
    {
      "cell_type": "code",
      "execution_count": 1,
      "metadata": {
        "executionInfo": {
          "elapsed": 2,
          "status": "ok",
          "timestamp": 1626714377599,
          "user": {
            "displayName": "",
            "photoUrl": "",
            "userId": ""
          },
          "user_tz": 240
        },
        "id": "flXheaIFmfPS"
      },
      "outputs": [],
      "source": [
        "# Uncomment these to install fedjax.\n",
        "# !pip install fedjax\n",
        "# !pip install --upgrade git+https://github.com/google/fedjax.git"
      ]
    },
    {
      "cell_type": "code",
      "execution_count": 2,
      "metadata": {
        "executionInfo": {
          "elapsed": 4901,
          "status": "ok",
          "timestamp": 1626714382615,
          "user": {
            "displayName": "",
            "photoUrl": "",
            "userId": ""
          },
          "user_tz": 240
        },
        "id": "iRWNysIeLUEX"
      },
      "outputs": [],
      "source": [
        "import fedjax\n",
        "import jax\n",
        "from jax import jit\n",
        "import jax.numpy as jnp\n",
        "import matplotlib.pyplot as plt\n",
        "import numpy as np\n",
        "import pandas as pd\n",
        "import optax\n",
        "import time\n",
        "from typing import Any, NamedTuple\n",
        "\n",
        "fedjax.training.set_tf_cpu_only()"
      ]
    },
    {
      "cell_type": "markdown",
      "metadata": {
        "id": "yyqYuFksOTnm"
      },
      "source": [
        "```\n",
        "# To disable jit, use 'with jax.disable_jit():'\n",
        "# For example,\n",
        "@jax.jit\n",
        "def f(x):\n",
        "  print(x)\n",
        "  return jnp.sum(x)\n",
        "\n",
        "x = jnp.ones([])\n",
        "\n",
        "print('jit enabled')\n",
        "for _ in range(10):\n",
        "  f(x)\n",
        "\n",
        "print('jit disabled')\n",
        "with jax.disable_jit():\n",
        "  for _ in range(10):\n",
        "    f(x)\n",
        "```"
      ]
    },
    {
      "cell_type": "code",
      "execution_count": 3,
      "metadata": {
        "colab": {
          "height": 332
        },
        "executionInfo": {
          "elapsed": 463,
          "status": "ok",
          "timestamp": 1626714383283,
          "user": {
            "displayName": "",
            "photoUrl": "",
            "userId": ""
          },
          "user_tz": 240
        },
        "id": "kp-iACjELyob",
        "outputId": "7137377a-8808-4b0d-d965-f9ea0333276c"
      },
      "outputs": [
        {
          "name": "stderr",
          "output_type": "stream",
          "text": [
            "Reusing cached file '/tmp/emnist_data/federated_emnist_train.sqlite'\n",
            "Reusing cached file '/tmp/emnist_data/federated_emnist_test.sqlite'\n"
          ]
        },
        {
          "data": {
            "text/plain": [
              "\u003cmatplotlib.image.AxesImage at 0x7f3e2ed2da10\u003e"
            ]
          },
          "execution_count": 3,
          "metadata": {
            "tags": []
          },
          "output_type": "execute_result"
        },
        {
          "data": {
            "image/png": "[encoded data removed]",
            "text/plain": [
              "\u003cFigure size 600x400 with 1 Axes\u003e"
            ]
          },
          "metadata": {
            "tags": []
          },
          "output_type": "display_data"
        }
      ],
      "source": [
        "# Load the model and the data.\n",
        "model = fedjax.models.emnist.create_conv_model(only_digits=False)\n",
        "train, test = fedjax.datasets.emnist.load_data(only_digits=False,\n",
        "                                               cache_dir='/tmp/emnist_data')\n",
        "# Print a single client data to verify data is loaded.\n",
        "example_client_id = list(train.client_ids())[0]\n",
        "single_client_data = list(train.get_client(\n",
        "    example_client_id).batch(batch_size=1))\n",
        "pixels = single_client_data[0]['x']\n",
        "label = single_client_data[0]['y']\n",
        "plt.title(f'{label}')\n",
        "plt.imshow(pixels.reshape(28, 28))"
      ]
    },
    {
      "cell_type": "code",
      "execution_count": 4,
      "metadata": {
        "executionInfo": {
          "elapsed": 66,
          "status": "ok",
          "timestamp": 1626714383620,
          "user": {
            "displayName": "",
            "photoUrl": "",
            "userId": ""
          },
          "user_tz": 240
        },
        "id": "8s30qnrML6t9"
      },
      "outputs": [],
      "source": [
        "@fedjax.dataclass\n",
        "class ServerState:\n",
        "  params : fedjax.Params\n",
        "  opt_state : fedjax.optimizers.OptState\n",
        "  aggregator_state: Any\n",
        "\n",
        "# Define federated algorithm.\n",
        "def fed_avg(grad_fn,\n",
        "            client_optimizer,\n",
        "            server_optimizer,\n",
        "            client_batch_hparams,\n",
        "            aggregator):\n",
        "  \"\"\"Builds the basic implementation of federated averaging.\"\"\"\n",
        "\n",
        "  def init(params):\n",
        "    \"\"\" Initialize the federated algorithm\"\"\"\n",
        "    opt_state = server_optimizer.init(params)\n",
        "    aggregator_state = aggregator.init()\n",
        "    return ServerState(params, opt_state, aggregator_state)\n",
        "\n",
        "  def apply(server_state, clients): \n",
        "    \"\"\" Apply one round of federated algorithm/\"\"\"\n",
        "    client_delta_params_weights = []\n",
        "    for client_id, client_dataset, client_rng in clients:\n",
        "      delta_params, client_loss = client_update(\n",
        "          server_state.params, client_dataset, client_rng)\n",
        "      client_delta_params_weights.append((client_id, \n",
        "                                          delta_params,\n",
        "                                          len(client_dataset)))\n",
        "    weighted_averaged_delta, new_aggregator_state = aggregator.apply(\n",
        "        client_delta_params_weights,\n",
        "        server_state.aggregator_state)\n",
        "    server_state = server_update(server_state,\n",
        "                                 weighted_averaged_delta,\n",
        "                                 new_aggregator_state)\n",
        "    return server_state\n",
        "\n",
        "  def client_update(server_params, client_dataset, client_rng):\n",
        "    params = server_params\n",
        "    opt_state = client_optimizer.init(params)\n",
        "    padded_batches = fedjax.padded_batch_client_datasets(\n",
        "        [client_dataset], batch_size=1024)\n",
        "    metrics = fedjax.evaluate_model(model, params, padded_batches)\n",
        "    client_loss = metrics['loss']\n",
        "    for batch in client_dataset.shuffle_repeat_batch(client_batch_hparams):\n",
        "      client_rng, use_rng = jax.random.split(client_rng)\n",
        "      grads = grad_fn(params, batch, use_rng)\n",
        "      opt_state, params = client_optimizer.apply(grads, opt_state, params)\n",
        "    delta_params = jax.tree_util.tree_multimap(lambda a, b: a - b,\n",
        "                                               server_params, params)\n",
        "    return delta_params, client_loss\n",
        "\n",
        "  def server_update(server_state, mean_delta_params, new_aggregator_state):\n",
        "    opt_state, params = server_optimizer.apply(mean_delta_params,\n",
        "                                               server_state.opt_state,\n",
        "                                               server_state.params)\n",
        "    return ServerState(params, opt_state, new_aggregator_state)\n",
        "\n",
        "  return fedjax.FederatedAlgorithm(init, apply)"
      ]
    },
    {
      "cell_type": "code",
      "execution_count": 5,
      "metadata": {
        "executionInfo": {
          "elapsed": 527294,
          "status": "ok",
          "timestamp": 1626714911066,
          "user": {
            "displayName": "",
            "photoUrl": "",
            "userId": ""
          },
          "user_tz": 240
        },
        "id": "O5IHdAjEjOan",
        "outputId": "e508884d-4ee6-4a52-e692-bf2a6afde001"
      },
      "outputs": [
        {
          "name": "stdout",
          "output_type": "stream",
          "text": [
            "round_num: 100, mean_round_duration: 0.4552804470062256 sec\n",
            "round_num: 200, mean_round_duration: 0.3484324908256531 sec\n",
            "round_num: 300, mean_round_duration: 0.3398168110847473 sec\n",
            "round_num: 400, mean_round_duration: 0.34802984476089477 sec\n",
            "round_num: 500, mean_round_duration: 0.3342078638076782 sec\n",
            "round_num: 600, mean_round_duration: 0.33866923570632934 sec\n",
            "round_num: 700, mean_round_duration: 0.34813843011856077 sec\n",
            "round_num: 800, mean_round_duration: 0.3442531204223633 sec\n",
            "round_num: 900, mean_round_duration: 0.3395417761802673 sec\n",
            "round_num: 1000, mean_round_duration: 0.338899233341217 sec\n",
            "round_num: 1100, mean_round_duration: 0.33501195192337035 sec\n",
            "round_num: 1200, mean_round_duration: 0.34103004932403563 sec\n",
            "round_num: 1300, mean_round_duration: 0.338041832447052 sec\n",
            "round_num: 1400, mean_round_duration: 0.3409284591674805 sec\n",
            "round_num: 1500, mean_round_duration: 0.33965426445007324 sec\n",
            "{'accuracy': DeviceArray(0.8554393, dtype=float32), 'loss': DeviceArray(0.42102018, dtype=float32)}\n"
          ]
        }
      ],
      "source": [
        "# Run federated algorithm.\n",
        "# The hyper-parameters here is not the state of the art. It achieves a\n",
        "# global test accuracy as follows\n",
        "# num_levels, server_learning_rate_starting_point, test_accuracy \n",
        "# 256, 1.0, 85.6%\n",
        "# 2, 0.01, 59.2%\n",
        "\n",
        "num_rounds = 1500\n",
        "num_clients_per_round = 10\n",
        "client_batch_size = 10\n",
        "client_optimizer = fedjax.optimizers.sgd(learning_rate=0.16)\n",
        "server_schedule = optax.exponential_decay(1.0, 500, 0.5)\n",
        "server_optimizer = fedjax.optimizers.sgd(server_schedule)\n",
        "client_batch_hparams = fedjax.ShuffleRepeatBatchHParams(\n",
        "    batch_size=10,num_epochs=1)\n",
        "grad_fn = fedjax.model_grad(model)\n",
        "# Creating a federated algorithm with 8 bits of quantization.\n",
        "algorithm = fed_avg(grad_fn, \n",
        "                    client_optimizer,\n",
        "                    server_optimizer,\n",
        "                    client_batch_hparams,\n",
        "                    fedjax.aggregators.uniform_stochastic_quantizer(\n",
        "                        256, jax.random.PRNGKey(0)))\n",
        "init_params = model.init(jax.random.PRNGKey(0))\n",
        "rng = jax.random.PRNGKey(42)\n",
        "server_state = algorithm.init(init_params)\n",
        "sampler = fedjax.client_samplers.UniformGetClientSampler(\n",
        "    train, num_clients_per_round, seed=0)\n",
        "start = time.time()\n",
        "for round_num in range(1, num_rounds + 1):\n",
        "  clients = sampler.sample()\n",
        "  server_state = algorithm.apply(server_state, clients)\n",
        "  if round_num % 100 == 0:\n",
        "    print('round_num: {}, mean_round_duration: {} sec'.format(\n",
        "        round_num, (time.time() - start)/100))\n",
        "    start = time.time() \n",
        "final_params = server_state.params\n",
        "\n",
        "overall_metrics = fedjax.evaluate_model(\n",
        "    model,\n",
        "    final_params,\n",
        "    fedjax.padded_batch_federated_data(test, batch_size=1024))\n",
        "print(overall_metrics)"
      ]
    }
  ],
  "metadata": {
    "colab": {
      "collapsed_sections": [],
      "last_runtime": {
        "build_target": "//learning/deepmind/public/tools/ml_python:ml_notebook",
        "kind": "private"
      },
      "name": "emnist-compression.ipynb",
      "provenance": [
        {
          "file_id": "1d3YXAA7t9NFgWFp6YyUNiDHRAGbCaIwq",
          "timestamp": 1619130258104
        },
        {
          "file_id": "1UhglgvY6rQOPGQQPIL7aJRQ5wXndCrWt",
          "timestamp": 1617290897629
        },
        {
          "file_id": "1p7KiuZnXC3KOeJW_ArP-cTzpax0IBBFZ",
          "timestamp": 1616023981580
        }
      ]
    },
    "kernelspec": {
      "display_name": "Python 3",
      "name": "python3"
    }
  },
  "nbformat": 4,
  "nbformat_minor": 0
}
