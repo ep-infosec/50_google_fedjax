{
  "cells": [
    {
      "cell_type": "markdown",
      "metadata": {
        "id": "dXAJBz_5kbJW"
      },
      "source": [
        "\n",
        "[Open In Colab](https://colab.research.google.com/github/google/fedjax/blob/main/experimental/notebooks/emnist_p13n.ipynb)"
      ]
    },
    {
      "cell_type": "code",
      "execution_count": null,
      "metadata": {
        "id": "iRWNysIeLUEX"
      },
      "outputs": [],
      "source": [
        "import fedjax\n",
        "import jax\n",
        "from jax import jit\n",
        "import jax.numpy as jnp\n",
        "import matplotlib.pyplot as plt\n",
        "import numpy as np\n",
        "import pandas as pd\n",
        "import tensorflow as tf\n",
        "import time\n",
        "from typing import NamedTuple\n",
        "\n",
        "fedjax.training.set_tf_cpu_only()"
      ]
    },
    {
      "cell_type": "markdown",
      "metadata": {
        "id": "yyqYuFksOTnm"
      },
      "source": [
        "```\n",
        "# To disable jit, use 'with jax.disable_jit():'\n",
        "# For example,\n",
        "@jax.jit\n",
        "def f(x):\n",
        "  print(x)\n",
        "  return jnp.sum(x)\n",
        "\n",
        "x = jnp.ones([])\n",
        "\n",
        "print('jit enabled')\n",
        "for _ in range(10):\n",
        "  f(x)\n",
        "\n",
        "print('jit disabled')\n",
        "with jax.disable_jit():\n",
        "  for _ in range(10):\n",
        "    f(x)\n",
        "```"
      ]
    },
    {
      "cell_type": "code",
      "execution_count": null,
      "metadata": {
        "colab": {
          "height": 298
        },
        "executionInfo": {
          "elapsed": 1090,
          "status": "ok",
          "timestamp": 1617582793135,
          "user": {
            "displayName": "",
            "photoUrl": "",
            "userId": ""
          },
          "user_tz": 240
        },
        "id": "kp-iACjELyob",
        "outputId": "b726082e-397c-493b-8b41-fe74b7287fc2"
      },
      "outputs": [
        {
          "data": {
            "text/plain": [
              "\u003cmatplotlib.image.AxesImage at 0x7f3877ff8358\u003e"
            ]
          },
          "execution_count": 2,
          "metadata": {
            "tags": []
          },
          "output_type": "execute_result"
        },
        {
          "data": {
            "image/png": "[encoded data removed]",
            "text/plain": [
              "\u003cFigure size 600x400 with 1 Axes\u003e"
            ]
          },
          "metadata": {
            "tags": []
          },
          "output_type": "display_data"
        }
      ],
      "source": [
        "# Load the model and the data.\n",
        "model = fedjax.models.emnist.create_conv_model(only_digits=False)\n",
        "train, test = fedjax.datasets.emnist.load_data(only_digits=False,\n",
        "                                               cache_dir='/tmp/emnist_data')\n",
        "# Print a single client data to verify data is loaded.\n",
        "example_client_id = 'f0000_14'\n",
        "single_client_data = train.create_tf_dataset_for_client(example_client_id)\n",
        "numpy_client_data = list(single_client_data.as_numpy_iterator())\n",
        "pixels = numpy_client_data[0]['x']\n",
        "label = numpy_client_data[0]['y']\n",
        "plt.title(f'{label}')\n",
        "plt.imshow(pixels.reshape(28, 28))"
      ]
    },
    {
      "cell_type": "code",
      "execution_count": null,
      "metadata": {
        "id": "8s30qnrML6t9"
      },
      "outputs": [],
      "source": [
        "# Define federated algorithm.\n",
        "\n",
        "Model = fedjax.Model\n",
        "Params = fedjax.Params\n",
        "OptState = fedjax.OptState\n",
        "Optimizer = fedjax.Optimizer\n",
        "\n",
        "class FedAvgServerState(NamedTuple):\n",
        "  params: Params\n",
        "  opt_state: OptState\n",
        "\n",
        "class SimpleFedAvg():\n",
        "\n",
        "  def __init__(self,\n",
        "               model: Model,\n",
        "               client_optimizer: Optimizer,\n",
        "               server_optimizer: Optimizer,\n",
        "               client_batch_size: int):\n",
        "    self.model = model\n",
        "    self.client_optimizer = client_optimizer\n",
        "    self.server_optimizer = server_optimizer\n",
        "    self.client_batch_size = client_batch_size\n",
        "  \n",
        "  def client_update(self, server_state, client_data):\n",
        "    params = server_state.params\n",
        "    opt_state = self.client_optimizer.init_fn(params)\n",
        "    num_examples = 0.\n",
        "    rng_seq = fedjax.PRNGSequence(0)\n",
        "    for batch, rng in zip(client_data, rng_seq):\n",
        "      backward_pass_output = self.model.backward_pass(params, batch, rng)\n",
        "      grads = backward_pass_output.grads\n",
        "      updates, opt_state = self.client_optimizer.update_fn(grads, opt_state)\n",
        "      params = self.client_optimizer.apply_updates(updates, params)\n",
        "      num_examples += backward_pass_output.num_examples\n",
        "    delta = jax.tree_util.tree_multimap(lambda a, b: a - b, \n",
        "                                        server_state.params,\n",
        "                                        params)\n",
        "    return delta, num_examples\n",
        "\n",
        "  def server_update(self, server_state, client_outputs):\n",
        "    weighted_averaged_delta = fedjax.tree_mean(client_outputs)\n",
        "    updates, opt_state = server_optimizer.update_fn(weighted_averaged_delta,\n",
        "                                                    server_state.opt_state)\n",
        "    params = server_optimizer.apply_updates(updates, server_state.params)\n",
        "    return FedAvgServerState(params, opt_state)\n",
        "\n",
        "  def init(self, rng):\n",
        "    params = model.init_params(rng)\n",
        "    opt_state = self.server_optimizer.init_fn(params)\n",
        "    return FedAvgServerState(params, opt_state)\n",
        "\n",
        "  def run_one_round(self, server_state, client_ids):\n",
        "    client_outputs = []\n",
        "    for client_id in client_ids:\n",
        "      client_data = train.create_tf_dataset_for_client(client_id)\n",
        "      client_data = client_data.batch(self.client_batch_size)\n",
        "      client_data = client_data.as_numpy_iterator()\n",
        "      client_outputs.append(self.client_update(server_state, client_data))\n",
        "    return self.server_update(server_state, client_outputs)"
      ]
    },
    {
      "cell_type": "code",
      "execution_count": null,
      "metadata": {
        "executionInfo": {
          "elapsed": 1304797,
          "status": "ok",
          "timestamp": 1617584098167,
          "user": {
            "displayName": "",
            "photoUrl": "",
            "userId": ""
          },
          "user_tz": 240
        },
        "id": "O5IHdAjEjOan",
        "outputId": "c81fd167-d514-4944-d9ab-2c4e0f594214"
      },
      "outputs": [
        {
          "name": "stdout",
          "output_type": "stream",
          "text": [
            "round_num: 10, mean_round_duration: 2.4179877758026125 sec\n",
            "round_num: 20, mean_round_duration: 1.2856221437454223 sec\n",
            "round_num: 30, mean_round_duration: 1.2583433389663696 sec\n",
            "round_num: 40, mean_round_duration: 1.293632435798645 sec\n",
            "round_num: 50, mean_round_duration: 1.3177392482757568 sec\n",
            "round_num: 60, mean_round_duration: 1.2409819602966308 sec\n",
            "round_num: 70, mean_round_duration: 1.4055363655090332 sec\n",
            "round_num: 80, mean_round_duration: 1.324507236480713 sec\n",
            "round_num: 90, mean_round_duration: 1.3277878999710082 sec\n",
            "round_num: 100, mean_round_duration: 1.2576950073242188 sec\n",
            "round_num: 110, mean_round_duration: 1.265484356880188 sec\n",
            "round_num: 120, mean_round_duration: 1.3302254915237426 sec\n",
            "round_num: 130, mean_round_duration: 1.3305392742156983 sec\n",
            "round_num: 140, mean_round_duration: 1.2630117654800415 sec\n",
            "round_num: 150, mean_round_duration: 1.2149299144744874 sec\n",
            "round_num: 160, mean_round_duration: 1.317898726463318 sec\n",
            "round_num: 170, mean_round_duration: 1.2496724843978881 sec\n",
            "round_num: 180, mean_round_duration: 1.3485594511032104 sec\n",
            "round_num: 190, mean_round_duration: 1.309235978126526 sec\n",
            "round_num: 200, mean_round_duration: 1.3228114128112793 sec\n",
            "round_num: 210, mean_round_duration: 1.2445311069488525 sec\n",
            "round_num: 220, mean_round_duration: 1.3395334959030152 sec\n",
            "round_num: 230, mean_round_duration: 1.3021977901458741 sec\n",
            "round_num: 240, mean_round_duration: 1.2741637229919434 sec\n",
            "round_num: 250, mean_round_duration: 1.2318524837493896 sec\n",
            "round_num: 260, mean_round_duration: 1.4736653089523315 sec\n",
            "round_num: 270, mean_round_duration: 1.3252817153930665 sec\n",
            "round_num: 280, mean_round_duration: 1.3422151327133178 sec\n",
            "round_num: 290, mean_round_duration: 1.2868016719818116 sec\n",
            "round_num: 300, mean_round_duration: 1.2487224102020265 sec\n",
            "round_num: 310, mean_round_duration: 1.3158448457717895 sec\n",
            "round_num: 320, mean_round_duration: 1.3285760879516602 sec\n",
            "round_num: 330, mean_round_duration: 1.284516191482544 sec\n",
            "round_num: 340, mean_round_duration: 1.2450626611709594 sec\n",
            "round_num: 350, mean_round_duration: 1.2821698188781738 sec\n",
            "round_num: 360, mean_round_duration: 1.2720118522644044 sec\n",
            "round_num: 370, mean_round_duration: 1.2604496955871582 sec\n",
            "round_num: 380, mean_round_duration: 1.2895343065261842 sec\n",
            "round_num: 390, mean_round_duration: 1.2879192590713502 sec\n",
            "round_num: 400, mean_round_duration: 1.2494608402252196 sec\n",
            "round_num: 410, mean_round_duration: 1.2486596584320069 sec\n",
            "round_num: 420, mean_round_duration: 1.3372132301330566 sec\n",
            "round_num: 430, mean_round_duration: 1.2258241415023803 sec\n",
            "round_num: 440, mean_round_duration: 1.2808762550354005 sec\n",
            "round_num: 450, mean_round_duration: 1.3549511194229127 sec\n",
            "round_num: 460, mean_round_duration: 1.327925729751587 sec\n",
            "round_num: 470, mean_round_duration: 1.2242743968963623 sec\n",
            "round_num: 480, mean_round_duration: 1.3151632785797118 sec\n",
            "round_num: 490, mean_round_duration: 1.2456072092056274 sec\n",
            "round_num: 500, mean_round_duration: 1.2867476224899292 sec\n",
            "round_num: 510, mean_round_duration: 1.336994194984436 sec\n",
            "round_num: 520, mean_round_duration: 1.3807969093322754 sec\n",
            "round_num: 530, mean_round_duration: 1.239357590675354 sec\n",
            "round_num: 540, mean_round_duration: 1.222449493408203 sec\n",
            "round_num: 550, mean_round_duration: 1.2836634159088134 sec\n",
            "round_num: 560, mean_round_duration: 1.3147050142288208 sec\n",
            "round_num: 570, mean_round_duration: 1.35428147315979 sec\n",
            "round_num: 580, mean_round_duration: 1.3138585805892944 sec\n",
            "round_num: 590, mean_round_duration: 1.3414186477661132 sec\n",
            "round_num: 600, mean_round_duration: 1.256981658935547 sec\n",
            "round_num: 610, mean_round_duration: 1.2744993925094605 sec\n",
            "round_num: 620, mean_round_duration: 1.2607455492019652 sec\n",
            "round_num: 630, mean_round_duration: 1.3246202230453492 sec\n",
            "round_num: 640, mean_round_duration: 1.2741969108581543 sec\n",
            "round_num: 650, mean_round_duration: 1.3005314111709594 sec\n",
            "round_num: 660, mean_round_duration: 1.2807097911834717 sec\n",
            "round_num: 670, mean_round_duration: 1.2737339973449706 sec\n",
            "round_num: 680, mean_round_duration: 1.299183201789856 sec\n",
            "round_num: 690, mean_round_duration: 1.286964440345764 sec\n",
            "round_num: 700, mean_round_duration: 1.3849557876586913 sec\n",
            "round_num: 710, mean_round_duration: 1.262447428703308 sec\n",
            "round_num: 720, mean_round_duration: 1.2538427829742431 sec\n",
            "round_num: 730, mean_round_duration: 1.2329790353775025 sec\n",
            "round_num: 740, mean_round_duration: 1.2798154592514037 sec\n",
            "round_num: 750, mean_round_duration: 1.2538930892944335 sec\n",
            "round_num: 760, mean_round_duration: 1.3467060565948485 sec\n",
            "round_num: 770, mean_round_duration: 1.2836196899414063 sec\n",
            "round_num: 780, mean_round_duration: 1.2974982023239137 sec\n",
            "round_num: 790, mean_round_duration: 1.2683333873748779 sec\n",
            "round_num: 800, mean_round_duration: 1.2738268375396729 sec\n",
            "round_num: 810, mean_round_duration: 1.3420915365219117 sec\n",
            "round_num: 820, mean_round_duration: 1.4422414779663086 sec\n",
            "round_num: 830, mean_round_duration: 1.2713271141052247 sec\n",
            "round_num: 840, mean_round_duration: 1.274616265296936 sec\n",
            "round_num: 850, mean_round_duration: 1.2699088096618651 sec\n",
            "round_num: 860, mean_round_duration: 1.2866215229034423 sec\n",
            "round_num: 870, mean_round_duration: 1.2491331577301026 sec\n",
            "round_num: 880, mean_round_duration: 1.3347885847091674 sec\n",
            "round_num: 890, mean_round_duration: 1.264377236366272 sec\n",
            "round_num: 900, mean_round_duration: 1.2915965795516968 sec\n",
            "round_num: 910, mean_round_duration: 1.247445559501648 sec\n",
            "round_num: 920, mean_round_duration: 1.2620747566223145 sec\n",
            "round_num: 930, mean_round_duration: 1.23541579246521 sec\n",
            "round_num: 940, mean_round_duration: 1.281466007232666 sec\n",
            "round_num: 950, mean_round_duration: 1.2779473304748534 sec\n",
            "round_num: 960, mean_round_duration: 1.2834749937057495 sec\n",
            "round_num: 970, mean_round_duration: 1.3162134408950805 sec\n",
            "round_num: 980, mean_round_duration: 1.3667949914932251 sec\n",
            "round_num: 990, mean_round_duration: 1.2952633619308471 sec\n",
            "round_num: 1000, mean_round_duration: 1.287012505531311 sec\n"
          ]
        }
      ],
      "source": [
        "# Run federated algorithm.\n",
        "# The hyper-parameters here is not the state of the art. It achieves a\n",
        "# global test accuracy of 84.6%.\n",
        "num_rounds = 1000\n",
        "num_clients_per_round = 10\n",
        "rng=0\n",
        "client_batch_size=10\n",
        "client_optimizer = fedjax.get_optimizer(fedjax.OptimizerName.SGD,\n",
        "                                        learning_rate=0.1)\n",
        "server_optimizer = fedjax.get_optimizer(fedjax.OptimizerName.SGD,\n",
        "                                        learning_rate=1.0)\n",
        "\n",
        "algorithm = SimpleFedAvg(model, client_optimizer,\n",
        "                         server_optimizer, client_batch_size)\n",
        "start = time.time()\n",
        "server_state = algorithm.init(rng)\n",
        "np.random.seed(0)\n",
        "for round_num in range(1, num_rounds + 1):\n",
        "  client_ids = np.random.choice(train.client_ids, \n",
        "                                size=num_clients_per_round,\n",
        "                                replace=False)\n",
        "  server_state = algorithm.run_one_round(server_state, client_ids)\n",
        "  if round_num % 10 == 0:\n",
        "    print('round_num: {}, mean_round_duration: {} sec'.format(\n",
        "        round_num, (time.time() - start)/10))\n",
        "    start = time.time() \n",
        "global_params = server_state.params"
      ]
    },
    {
      "cell_type": "code",
      "execution_count": null,
      "metadata": {
        "executionInfo": {
          "elapsed": 78572,
          "status": "ok",
          "timestamp": 1617584176777,
          "user": {
            "displayName": "",
            "photoUrl": "",
            "userId": ""
          },
          "user_tz": 240
        },
        "id": "9kUWONxJo7ie",
        "outputId": "4cbaeb7a-4040-47cf-e24d-c01e066345f0"
      },
      "outputs": [
        {
          "name": "stdout",
          "output_type": "stream",
          "text": [
            "loss             0.448871\n",
            "regularizer      0.000000\n",
            "num_examples    22.789118\n",
            "accuracy         0.846229\n",
            "dtype: float64\n"
          ]
        }
      ],
      "source": [
        "# Evaluate the global model\n",
        "hparams = fedjax.ClientDataHParams(batch_size=10, num_epochs=1) \n",
        "all_metrics = fedjax.evaluate_multiple_clients(federated_data=test, \n",
        "                                               client_ids=test.client_ids,\n",
        "                                               model=model,\n",
        "                                               params=global_params,\n",
        "                                               client_data_hparams=hparams)\n",
        "all_metrics = list(all_metrics)\n",
        "print(pd.DataFrame.from_records(all_metrics).mean())\n"
      ]
    },
    {
      "cell_type": "code",
      "execution_count": null,
      "metadata": {
        "executionInfo": {
          "elapsed": 598283,
          "status": "ok",
          "timestamp": 1617584775073,
          "user": {
            "displayName": "",
            "photoUrl": "",
            "userId": ""
          },
          "user_tz": 240
        },
        "id": "pD3uDHY3iba4",
        "outputId": "590c0ad6-8af7-45e0-fb42-dcc79c4d6264"
      },
      "outputs": [
        {
          "name": "stdout",
          "output_type": "stream",
          "text": [
            "mean_personalization_duration: 0.17590635152424083 sec.\n"
          ]
        }
      ],
      "source": [
        "# Finetune the model and evaluate before and after finetuning.\n",
        "# The hyper-parameters here is not the state of the art. It achieves a\n",
        "# finetune test accuracy of 84.6%.\n",
        "\n",
        "finetune_batch_size=10\n",
        "client_optimizer = fedjax.get_optimizer(fedjax.OptimizerName.SGD,\n",
        "                                        learning_rate=0.1)\n",
        "global_metrics = {}\n",
        "finetune_metrics = {}\n",
        "start = time.time()\n",
        "num_clients = 3400\n",
        "for client_id in train.client_ids[0:num_clients]:\n",
        "  # Finetune algorithm.\n",
        "  params = global_params\n",
        "  client_train_data = train.create_tf_dataset_for_client(\n",
        "      client_id).batch(finetune_batch_size).as_numpy_iterator()\n",
        "  rng_seq = fedjax.PRNGSequence(0)\n",
        "  opt_state = client_optimizer.init_fn(params)\n",
        "  for batch, rng in zip(client_train_data, rng_seq):\n",
        "      backward_pass_output = model.backward_pass(params, batch, rng)\n",
        "      grads = backward_pass_output.grads\n",
        "      updates, opt_state = client_optimizer.update_fn(grads, opt_state)\n",
        "      params = client_optimizer.apply_updates(updates, params)\n",
        "\n",
        "  # train and test evaluations.\n",
        "  client_test_tf_data = test.create_tf_dataset_for_client(client_id)\n",
        "  global_metrics[client_id] = fedjax.evaluate_single_client(\n",
        "      client_test_tf_data.batch(16), model, global_params)\n",
        "  finetune_metrics[client_id] = fedjax.evaluate_single_client(\n",
        "      client_test_tf_data.batch(16), model, params)\n",
        "\n",
        "print('mean_personalization_duration: {} sec.'.format(\n",
        "    (time.time() - start)/num_clients))\n"
      ]
    },
    {
      "cell_type": "code",
      "execution_count": null,
      "metadata": {
        "colab": {
          "height": 468
        },
        "executionInfo": {
          "elapsed": 4026,
          "status": "ok",
          "timestamp": 1617584779131,
          "user": {
            "displayName": "",
            "photoUrl": "",
            "userId": ""
          },
          "user_tz": 240
        },
        "id": "pn-dApgcoE_5",
        "outputId": "96359dcf-b31f-43b7-cfbc-4ecdaadf5d1a"
      },
      "outputs": [
        {
          "name": "stdout",
          "output_type": "stream",
          "text": [
            "Global metrics loss             0.448871\n",
            "regularizer      0.000000\n",
            "num_examples    22.789118\n",
            "accuracy         0.846229\n",
            "dtype: float64\n",
            "Finetune metrics loss             0.374029\n",
            "regularizer      0.000000\n",
            "num_examples    22.789118\n",
            "accuracy         0.878630\n",
            "dtype: float64\n"
          ]
        },
        {
          "data": {
            "text/plain": [
              "Text(0, 0.5, 'finetune_accuracy')"
            ]
          },
          "execution_count": 7,
          "metadata": {
            "tags": []
          },
          "output_type": "execute_result"
        },
        {
          "data": {
            "image/png": "[encoded data removed]",
            "text/plain": [
              "\u003cFigure size 600x400 with 1 Axes\u003e"
            ]
          },
          "metadata": {
            "tags": []
          },
          "output_type": "display_data"
        }
      ],
      "source": [
        "# Compute aggregate metrics and plot accuracies.\n",
        "print(\"Global metrics\", pd.DataFrame.from_records(\n",
        "    list(global_metrics.values())).mean())\n",
        "print(\"Finetune metrics\", pd.DataFrame.from_records(list(\n",
        "    finetune_metrics.values())).mean())\n",
        "\n",
        "global_accuracy = [metric['accuracy'] \n",
        "                   for metric in list(global_metrics.values())]\n",
        "finetune_accuracy = [metric['accuracy'] \n",
        "                     for metric in list(finetune_metrics.values())]\n",
        "plt.scatter(global_accuracy, finetune_accuracy)\n",
        "plt.xlabel('global_accuracy')\n",
        "plt.ylabel('finetune_accuracy')"
      ]
    }
  ],
  "metadata": {
    "colab": {
      "collapsed_sections": [],
      "last_runtime": {
        "build_target": "//learning/deepmind/public/tools/ml_python:ml_notebook",
        "kind": "private"
      },
      "name": "emnist-p13n.ipynb",
      "provenance": [
        {
          "file_id": "1UhglgvY6rQOPGQQPIL7aJRQ5wXndCrWt",
          "timestamp": 1617290897629
        },
        {
          "file_id": "1p7KiuZnXC3KOeJW_ArP-cTzpax0IBBFZ",
          "timestamp": 1616023981580
        }
      ]
    },
    "kernelspec": {
      "display_name": "Python 3",
      "name": "python3"
    }
  },
  "nbformat": 4,
  "nbformat_minor": 0
}
